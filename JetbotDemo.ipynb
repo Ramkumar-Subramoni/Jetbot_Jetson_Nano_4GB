{
 "cells": [
  {
   "cell_type": "markdown",
   "metadata": {},
   "source": [
    "# Jetbot Demo"
   ]
  },
  {
   "cell_type": "code",
   "execution_count": null,
   "metadata": {},
   "outputs": [],
   "source": [
    "# importing necessary libraries\n",
    "\n",
    "import os\n",
    "import torch\n",
    "import torchvision.transforms as transforms\n",
    "from PIL import Image\n",
    "from jetbot import Robot\n",
    "import numpy as np\n",
    "from JetbotUsbCamera import JetbotUsbCamera as usbCam\n",
    "import time\n",
    "import threading\n",
    "import ipywidgets as widgets\n",
    "from IPython.display import display\n",
    "import cv2\n",
    "import torch.nn as nn\n",
    "import torch.optim as optim\n",
    "from torchvision import models"
   ]
  },
  {
   "cell_type": "code",
   "execution_count": null,
   "metadata": {},
   "outputs": [],
   "source": [
    "# Define the model architecture\n",
    "class SimpleCNN(nn.Module):\n",
    "    def __init__(self, num_classes=5):\n",
    "        super(SimpleCNN, self).__init__()\n",
    "        self.features = models.resnet18(pretrained=True)\n",
    "        self.features.fc = nn.Linear(self.features.fc.in_features, num_classes)\n",
    "\n",
    "    def forward(self, x):\n",
    "        return self.features(x)\n"
   ]
  },
  {
   "cell_type": "code",
   "execution_count": null,
   "metadata": {},
   "outputs": [],
   "source": [
    "# Load the trained model\n",
    "model_path = '/workspace/jetbot/notebooks/testing/training/road_following_model.pth'\n",
    "model = SimpleCNN(num_classes=5)\n",
    "model.load_state_dict(torch.load(model_path, map_location=torch.device('cuda' if torch.cuda.is_available() else 'cpu')))\n",
    "model.eval()"
   ]
  },
  {
   "cell_type": "code",
   "execution_count": null,
   "metadata": {},
   "outputs": [],
   "source": [
    "# Define the transformation for the input image\n",
    "transform = transforms.Compose([\n",
    "    transforms.Resize((224, 224)),\n",
    "    transforms.ToTensor(),\n",
    "    transforms.Normalize(mean=[0.485, 0.456, 0.406], std=[0.229, 0.224, 0.225])\n",
    "])"
   ]
  },
  {
   "cell_type": "code",
   "execution_count": null,
   "metadata": {},
   "outputs": [],
   "source": [
    "# Initialize the JetBot and camera\n",
    "robot = Robot()\n",
    "camera = usbCam(device=0, width=224, height=224)"
   ]
  },
  {
   "cell_type": "code",
   "execution_count": null,
   "metadata": {},
   "outputs": [],
   "source": [
    "# Preprocess the image for the model\n",
    "def preprocess(image):\n",
    "    image = Image.fromarray(image)\n",
    "    image = transform(image).unsqueeze(0)\n",
    "    return image"
   ]
  },
  {
   "cell_type": "code",
   "execution_count": null,
   "metadata": {},
   "outputs": [],
   "source": [
    "# Predict the direction based on the image\n",
    "def predict_direction(image):\n",
    "    output = model(image)\n",
    "    _, pred = torch.max(output, 1)\n",
    "    return pred.item()"
   ]
  },
  {
   "cell_type": "code",
   "execution_count": null,
   "metadata": {},
   "outputs": [],
   "source": [
    "# Display arrows on the image based on the prediction\n",
    "def display_arrows(camera_image, direction):\n",
    "    image = np.copy(camera_image)\n",
    "    arrow_color = (0, 255, 0)  # Green\n",
    "    glow_color = (0, 255, 255)  # Yellow\n",
    "\n",
    "    overlay = image.copy()\n",
    "    if direction == 0:  # up\n",
    "        cv2.arrowedLine(overlay, (112, 200), (112, 24), glow_color, 3, tipLength=0.5)\n",
    "    if direction == 2:  # left\n",
    "        cv2.arrowedLine(overlay, (200, 112), (24, 112), glow_color, 3, tipLength=0.5)\n",
    "    if direction == 3:  # right\n",
    "        cv2.arrowedLine(overlay, (24, 112), (200, 112), glow_color, 3, tipLength=0.5)\n",
    "    if direction == 4:  # obstacle\n",
    "        cv2.putText(overlay, \"Obstacle\", (50, 112), cv2.FONT_HERSHEY_SIMPLEX, 1, glow_color, 2, cv2.LINE_AA)\n",
    "\n",
    "    cv2.addWeighted(overlay, 0.6, image, 0.4, 0, image)\n",
    "    return image"
   ]
  },
  {
   "cell_type": "code",
   "execution_count": null,
   "metadata": {},
   "outputs": [],
   "source": [
    "# Move the robot based on the prediction\n",
    "def move_robot(prediction):\n",
    "    if prediction == 0:  # up\n",
    "        robot.forward(speed_slider.value)\n",
    "    elif prediction == 2:  # left\n",
    "        robot.left(speed_slider.value)\n",
    "    elif prediction == 3:  # right\n",
    "        robot.right(speed_slider.value)\n",
    "    elif prediction == 4:  # obstacle\n",
    "        robot.stop()\n",
    "    else:\n",
    "        robot.stop()"
   ]
  },
  {
   "cell_type": "code",
   "execution_count": null,
   "metadata": {},
   "outputs": [],
   "source": [
    "# Update the image and make predictions\n",
    "def update_image():\n",
    "    global stop_requested, manual_mode\n",
    "    while not stop_requested:\n",
    "        frame = camera.read()\n",
    "        if frame is not None:\n",
    "            if not manual_mode:\n",
    "                image = preprocess(frame)\n",
    "                prediction = predict_direction(image)\n",
    "                move_robot(prediction)\n",
    "                frame = display_arrows(frame, prediction)\n",
    "            target_widget.value = cv2.imencode('.jpg', frame)[1].tobytes()\n",
    "        time.sleep(0.1)"
   ]
  },
  {
   "cell_type": "code",
   "execution_count": null,
   "metadata": {},
   "outputs": [],
   "source": [
    "# Define the functions for the buttons\n",
    "def start_camera(_):\n",
    "    global stop_requested\n",
    "    stop_requested = False\n",
    "    camera.start()\n",
    "    update_thread = threading.Thread(target=update_image)\n",
    "    update_thread.start()\n",
    "    camera_active_indicator.button_style = 'success'\n",
    "\n",
    "def stop_camera(_):\n",
    "    global stop_requested\n",
    "    stop_requested = True\n",
    "    camera.stop()\n",
    "    robot.stop()\n",
    "    camera_active_indicator.button_style = ''\n",
    "\n",
    "def start_robot(_):\n",
    "    global robot_active\n",
    "    robot_active = True\n",
    "    robot_active_indicator.button_style = 'success'\n",
    "\n",
    "def stop_robot(_):\n",
    "    global robot_active\n",
    "    robot_active = False\n",
    "    robot.stop()\n",
    "    robot_active_indicator.button_style = ''\n",
    "\n",
    "def move_forward(_):\n",
    "    global move_up\n",
    "    move_up = not move_up\n",
    "    if move_up:\n",
    "        robot.forward(speed_slider.value)\n",
    "    else:\n",
    "        robot.stop()\n",
    "\n",
    "def move_backward(_):\n",
    "    global move_down\n",
    "    move_down = not move_down\n",
    "    if move_down:\n",
    "        robot.backward(speed_slider.value)\n",
    "    else:\n",
    "        robot.stop()\n",
    "\n",
    "def turn_left(_):\n",
    "    global move_left\n",
    "    move_left = not move_left\n",
    "    if move_left:\n",
    "        robot.left(speed_slider.value)\n",
    "    else:\n",
    "        robot.stop()\n",
    "\n",
    "def turn_right(_):\n",
    "    global move_right\n",
    "    move_right = not move_right\n",
    "    if move_right:\n",
    "        robot.right(speed_slider.value)\n",
    "    else:\n",
    "        robot.stop()\n",
    "\n",
    "def manual_control_toggle(_):\n",
    "    global manual_mode\n",
    "    manual_mode = not manual_mode\n",
    "    manual_control_indicator.button_style = 'success' if manual_mode else ''"
   ]
  },
  {
   "cell_type": "code",
   "execution_count": null,
   "metadata": {},
   "outputs": [],
   "source": [
    "# Create the widgets\n",
    "target_widget = widgets.Image(format='jpeg', width=224, height=224)\n",
    "speed_slider = widgets.FloatSlider(min=0.0, max=1.0, step=0.01, value=0.3, description='Speed')\n",
    "speed_text = widgets.FloatText(value=0.3, description='Speed')\n",
    "widgets.jslink((speed_slider, 'value'), (speed_text, 'value'))\n",
    "\n",
    "camera_active_indicator = widgets.Button(description='', button_style='', layout=widgets.Layout(width='20px', height='20px'), disabled=True)\n",
    "robot_active_indicator = widgets.Button(description='', button_style='', layout=widgets.Layout(width='20px', height='20px'), disabled=True)\n",
    "manual_control_indicator = widgets.Button(description='', button_style='', layout=widgets.Layout(width='20px', height='20px'), disabled=True)\n",
    "\n",
    "start_camera_button = widgets.Button(description='Start Camera', button_style='success')\n",
    "stop_camera_button = widgets.Button(description='Stop Camera', button_style='danger')\n",
    "start_robot_button = widgets.Button(description='Start Robot', button_style='success')\n",
    "stop_robot_button = widgets.Button(description='Stop Robot', button_style='warning')\n",
    "manual_control_button = widgets.Button(description='Manual Control', button_style='info')\n",
    "\n",
    "up_button = widgets.Button(description='↑', layout=widgets.Layout(width='50px', height='50px'))\n",
    "down_button = widgets.Button(description='↓', layout=widgets.Layout(width='50px', height='50px'))\n",
    "left_button = widgets.Button(description='←', layout=widgets.Layout(width='50px', height='50px'))\n",
    "right_button = widgets.Button(description='→', layout=widgets.Layout(width='50px', height='50px'"
   ]
  },
  {
   "cell_type": "code",
   "execution_count": null,
   "metadata": {},
   "outputs": [],
   "source": [
    "# Link the buttons to their functions\n",
    "start_camera_button.on_click(start_camera)\n",
    "stop_camera_button.on_click(stop_camera)\n",
    "start_robot_button.on_click(start_robot)\n",
    "stop_robot_button.on_click(stop_robot)\n",
    "manual_control_button.on_click(manual_control_toggle)\n",
    "\n",
    "up_button.on_click(move_forward)\n",
    "down_button.on_click(move_backward)\n",
    "left_button.on_click(turn_left)\n",
    "right_button.on_click(turn_right)"
   ]
  },
  {
   "cell_type": "code",
   "execution_count": null,
   "metadata": {},
   "outputs": [],
   "source": [
    "# Display the widgets\n",
    "display(target_widget)\n",
    "display(widgets.HBox([speed_slider, speed_text]))\n",
    "display(widgets.HBox([start_camera_button, stop_camera_button, camera_active_indicator]))\n",
    "display(widgets.HBox([start_robot_button, stop_robot_button, robot_active_indicator]))\n",
    "display(widgets.HBox([manual_control_button, manual_control_indicator]))\n",
    "display(widgets.HBox([left_button, up_button, right_button, down_button]))\n",
    "\n",
    "# Initialize global variables\n",
    "stop_requested = False\n",
    "robot_active = False\n",
    "manual_mode = False\n",
    "move_up = False\n",
    "move_down = False\n",
    "move_left = False\n",
    "move_right = False"
   ]
  }
 ],
 "metadata": {
  "language_info": {
   "name": "python"
  }
 },
 "nbformat": 4,
 "nbformat_minor": 2
}
